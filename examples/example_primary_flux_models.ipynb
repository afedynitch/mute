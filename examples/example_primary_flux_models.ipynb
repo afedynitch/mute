{
 "cells": [
  {
   "cell_type": "markdown",
   "metadata": {},
   "source": [
    "# Example: Comparing Primary Flux Models\n",
    "\n",
    "This file demonstrates how to use MUTE to do a simple propagation of 50 muons through standard rock with three different primary flux models and plots the ratios of the resulting true vertical intensities.\n",
    "\n",
    "## Import Packages"
   ]
  },
  {
   "cell_type": "code",
   "execution_count": 1,
   "metadata": {},
   "outputs": [],
   "source": [
    "import mute.constants as mtc\n",
    "import mute.underground as mtu\n",
    "\n",
    "import matplotlib.pyplot as plt\n",
    "import numpy as np"
   ]
  },
  {
   "cell_type": "markdown",
   "metadata": {},
   "source": [
    "## Set the Constants"
   ]
  },
  {
   "cell_type": "code",
   "execution_count": 2,
   "metadata": {},
   "outputs": [],
   "source": [
    "mtc.set_verbose(2)\n",
    "mtc.set_output(True)\n",
    "mtc.set_directory(\"mute/data\")\n",
    "mtc.set_lab(\"Example\")\n",
    "mtc.set_overburden(\"flat\")\n",
    "mtc.set_vertical_depth(1)\n",
    "mtc.set_medium(\"rock\")\n",
    "mtc.set_density(2.65)\n",
    "mtc.set_n_muon(50)"
   ]
  },
  {
   "cell_type": "markdown",
   "metadata": {},
   "source": [
    "## Calculate the True Vertical Intensities\n",
    "\n",
    "The primary cosmic ray flux model can be set with the ``primary_model`` parameter. The desired slant depths can be specified in a list or an array with the ``depths`` parameter. Leaving it blank will calculate the intensities for steps of 0.5 km.w.e. between 1 and 12 km.w.e. as a default.\n",
    "\n",
    "The ``mtu.calc_u_intensities_tr()`` function will call ``mtu.calc_u_fluxes()`` to calculate underground fluxes. This will call ``mts.calc_s_fluxes()`` to calculate surface flux matrices for the specified primary models using MCEq (if files for them do not already exist in the directory). It will then call ``mtp.propagate_muons()`` and ``mtp.calc_survival()`` to propagate the muons using PROPOSAL and use the resulting underground energies to calculate survival probabilities. Because the propagation does not depend on the primary flux model, it only gets run once. Although ``n_muon`` is set to ``50`` above, MUTE states that it is propagating 139150 muons because it propagates 50 muons for each of the 121 energy bins for each of the 23 slant depths ($50*121*23=139150$).\n",
    "\n",
    "At each call of ``mtu.calc_u_intensities_tr()``, the output files for the surface flux, underground flux, and underground intensities will be overwritten. In order to avoid this, the lab can be set between calls using, for example, ``mtc.set_lab(\"Example_HG\")``, then ``mtc.set_lab(\"Example_GH\")``. To stop output files from being written for a certain call, the ``output`` parameter can be set to ``False``. To stop all output files from being written, the output can be set globally with ``mtc.set_output(False)``. Because ``verbose`` has been set to ``2``, MUTE will print out information about what it is doing every step along the way."
   ]
  },
  {
   "cell_type": "code",
   "execution_count": 3,
   "metadata": {},
   "outputs": [
    {
     "name": "stdout",
     "output_type": "stream",
     "text": [
      "Calculating underground fluxes.\n",
      "Loading surface fluxes for USStd using SIBYLL-2.3c and GSF.\n",
      "Loaded surface fluxes.\n"
     ]
    },
    {
     "name": "stdin",
     "output_type": "stream",
     "text": [
      "No survival probability matrix currently exists for the set lab, medium, or number of muons. Would you like to create one (y/n)?:  y\n",
      "No underground energy file currently exists for the set lab, medium, or number of muons. Would you like to create one (y/n)?: y\n"
     ]
    },
    {
     "name": "stdout",
     "output_type": "stream",
     "text": [
      "Creating propagator.\n"
     ]
    },
    {
     "name": "stderr",
     "output_type": "stream",
     "text": [
      "  8%|▊         | 10/121 [00:00<00:01, 95.15it/s]"
     ]
    },
    {
     "name": "stdout",
     "output_type": "stream",
     "text": [
      "Finished creating propagator.\n",
      "Propagating 139150 muons.\n"
     ]
    },
    {
     "name": "stderr",
     "output_type": "stream",
     "text": [
      "100%|██████████| 121/121 [1:53:14<00:00, 56.15s/it] \n"
     ]
    },
    {
     "name": "stdout",
     "output_type": "stream",
     "text": [
      "Finished propagation.\n",
      "Underground energies written to mute/data/underground_energies/rock_2.65_50_Underground_Energies_0.txt.\n",
      "Calculating survival probabilities.\n",
      "Finished calculating survival probabilities.\n",
      "Survival probabilities written to mute/data/survival_probabilities/rock_2.65_50_Survival_Probabilities.txt.\n",
      "Finished calculating underground fluxes.\n",
      "Underground fluxes written to mute/data/underground/Example_Underground_Fluxes.txt.\n",
      "Calculating true vertical underground intensities.\n",
      "Finished calculating true vertical underground intensities.\n",
      "True vertical underground intensities written to mute/data/underground/Example_Underground_Intensities_TR.txt.\n",
      "Calculating underground fluxes.\n",
      "Loading surface fluxes for USStd using SIBYLL-2.3c and HG.\n"
     ]
    },
    {
     "name": "stdin",
     "output_type": "stream",
     "text": [
      "No surface flux matrix currently exists for these models. Would you like to create one (y/n)?:  y\n"
     ]
    },
    {
     "name": "stdout",
     "output_type": "stream",
     "text": [
      "Calculating surface fluxes for USStd using SIBYLL-2.3c and HG.\n",
      "MCEqRun::set_interaction_model(): SIBYLL23C\n",
      "ParticleManager::_init_default_tracking(): Initializing default tracking categories (pi, K, mu)\n",
      "MCEqRun::set_density_model(): Setting density profile to CORSIKA ('BK_USStd', None)\n",
      "MCEqRun::set_primary_model(): HillasGaisser2012 H3a\n",
      "MCEqRun::set_density_model(): Setting density profile to CORSIKA ('USStd', None)\n"
     ]
    },
    {
     "name": "stderr",
     "output_type": "stream",
     "text": [
      "100%|██████████| 45/45 [17:58<00:00, 23.96s/it]\n"
     ]
    },
    {
     "name": "stdout",
     "output_type": "stream",
     "text": [
      "Finished calculating surface fluxes.\n",
      "Surface fluxes written to mute/data/surface_fluxes/Surface_Fluxes_USStd_SIBYLL-2.3c_HG.txt.\n",
      "Loading survival probabilities from mute/data/survival_probabilities/rock_2.65_50_Survival_Probabilities.txt.\n",
      "Loaded survival probabilities.\n",
      "Finished calculating underground fluxes.\n",
      "Underground fluxes written to mute/data/underground/Example_Underground_Fluxes.txt.\n",
      "Calculating true vertical underground intensities.\n",
      "Finished calculating true vertical underground intensities.\n",
      "True vertical underground intensities written to mute/data/underground/Example_Underground_Intensities_TR.txt.\n",
      "Calculating underground fluxes.\n",
      "Loading surface fluxes for USStd using SIBYLL-2.3c and GH.\n"
     ]
    },
    {
     "name": "stdin",
     "output_type": "stream",
     "text": [
      "No surface flux matrix currently exists for these models. Would you like to create one (y/n)?:  y\n"
     ]
    },
    {
     "name": "stdout",
     "output_type": "stream",
     "text": [
      "Calculating surface fluxes for USStd using SIBYLL-2.3c and GH.\n",
      "MCEqRun::set_interaction_model(): SIBYLL23C\n",
      "ParticleManager::_init_default_tracking(): Initializing default tracking categories (pi, K, mu)\n",
      "MCEqRun::set_density_model(): Setting density profile to CORSIKA ('BK_USStd', None)\n",
      "MCEqRun::set_primary_model(): GaisserHonda \n",
      "MCEqRun::set_density_model(): Setting density profile to CORSIKA ('USStd', None)\n"
     ]
    },
    {
     "name": "stderr",
     "output_type": "stream",
     "text": [
      "100%|██████████| 45/45 [18:10<00:00, 24.23s/it]\n"
     ]
    },
    {
     "name": "stdout",
     "output_type": "stream",
     "text": [
      "Finished calculating surface fluxes.\n",
      "Surface fluxes written to mute/data/surface_fluxes/Surface_Fluxes_USStd_SIBYLL-2.3c_GH.txt.\n",
      "Loading survival probabilities from mute/data/survival_probabilities/rock_2.65_50_Survival_Probabilities.txt.\n",
      "Loaded survival probabilities.\n",
      "Finished calculating underground fluxes.\n",
      "Underground fluxes written to mute/data/underground/Example_Underground_Fluxes.txt.\n",
      "Calculating true vertical underground intensities.\n",
      "Finished calculating true vertical underground intensities.\n",
      "True vertical underground intensities written to mute/data/underground/Example_Underground_Intensities_TR.txt.\n"
     ]
    }
   ],
   "source": [
    "intensities_GSF = mtu.calc_u_intensities_tr(primary_model = \"GSF\") # GlobalSplitFitBeta\n",
    "intensities_HG  = mtu.calc_u_intensities_tr(primary_model = \"HG\")  # HillasGaisser2012\n",
    "intensities_GH  = mtu.calc_u_intensities_tr(primary_model = \"GH\")  # GaisserHonda"
   ]
  },
  {
   "cell_type": "markdown",
   "metadata": {},
   "source": [
    "## Plot the Results\n",
    "\n",
    "Because depths were not specified in the ``mtu.calc_u_intensities_tr()`` calls above, the true vertical intensities were calculated for the default 23 slant depths stored in ``mtc.slant_depths``. There is not much visible variation between the primary flux models in the true vertical intensity, so instead of plotting the intensities themselves, plot the ratios of the intensities calculated with HG and GH to those calculated with GSF."
   ]
  },
  {
   "cell_type": "code",
   "execution_count": 4,
   "metadata": {},
   "outputs": [
    {
     "data": {
      "image/png": "[encoded data removed]",
      "text/plain": [
       "<Figure size 720x360 with 1 Axes>"
      ]
     },
     "metadata": {
      "needs_background": "light"
     },
     "output_type": "display_data"
    }
   ],
   "source": [
    "fig = plt.figure(figsize = (10, 5))\n",
    "ax  = fig.add_subplot(111)\n",
    "\n",
    "ax.plot(mtc.slant_depths, intensities_HG/intensities_GSF, color = \"red\", lw = 3, ls = \"-\", label = \"HillasGaisser2012\")\n",
    "ax.plot(mtc.slant_depths, intensities_GH/intensities_GSF, color = \"blue\", lw = 3, ls = \"--\", label = \"GaisserHonda\")\n",
    "\n",
    "ax.set_xlabel(\"Slant Depth, $X$ (km.w.e.)\", fontsize = 23)\n",
    "ax.set_ylabel(r\"$I^u_{tr}/I^u_{(tr,\\ GSF)}$\", fontsize = 23)\n",
    "ax.tick_params(axis = \"both\", which = \"major\", labelsize = 18)\n",
    "\n",
    "plt.legend(frameon = False, fontsize = 18)\n",
    "\n",
    "plt.show()"
   ]
  }
 ],
 "metadata": {
  "kernelspec": {
   "display_name": "Python 3",
   "language": "python",
   "name": "python3"
  },
  "language_info": {
   "codemirror_mode": {
    "name": "ipython",
    "version": 3
   },
   "file_extension": ".py",
   "mimetype": "text/x-python",
   "name": "python",
   "nbconvert_exporter": "python",
   "pygments_lexer": "ipython3",
   "version": "3.8.10"
  }
 },
 "nbformat": 4,
 "nbformat_minor": 4
}
